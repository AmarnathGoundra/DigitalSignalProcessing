{
 "cells": [
  {
   "cell_type": "code",
   "execution_count": 7,
   "metadata": {},
   "outputs": [
    {
     "name": "stdout",
     "output_type": "stream",
     "text": [
      "x=sin(pi*t/2)\n",
      "energy:  oo\n",
      "power : 1/2\n",
      "x1=3*exp(-10*t)\n",
      "energy:  9/20\n",
      "power : 0\n"
     ]
    }
   ],
   "source": [
    "from sympy import integrate, limit, sin, exp, oo, pi\n",
    "from sympy.abc import t\n",
    "\n",
    "x=sin(pi*t/2)\n",
    "x1=3*exp(-10*t)\n",
    "\n",
    "print(\"x=sin(pi*t/2)\")\n",
    "\n",
    "y=integrate((x**2),(t,0,t))\n",
    "\n",
    "energy=limit(y,t,oo)\n",
    "power=limit(y/t,t,oo)\n",
    "\n",
    "print(\"energy: \", energy)\n",
    "print(\"power :\", power)\n",
    "\n",
    "print(\"x1=3*exp(-10*t)\")\n",
    "\n",
    "y=integrate((x1**2),(t,0,t))\n",
    "\n",
    "energy=limit(y,t,oo)\n",
    "power=limit(y/t,t,oo)\n",
    "\n",
    "print(\"energy: \", energy)\n",
    "print(\"power :\", power)"
   ]
  }
 ],
 "metadata": {
  "kernelspec": {
   "display_name": "Python 3",
   "language": "python",
   "name": "python3"
  },
  "language_info": {
   "codemirror_mode": {
    "name": "ipython",
    "version": 3
   },
   "file_extension": ".py",
   "mimetype": "text/x-python",
   "name": "python",
   "nbconvert_exporter": "python",
   "pygments_lexer": "ipython3",
   "version": "3.7.0"
  }
 },
 "nbformat": 4,
 "nbformat_minor": 2
}
